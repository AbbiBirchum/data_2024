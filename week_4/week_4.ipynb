{
 "cells": [
  {
   "cell_type": "markdown",
   "metadata": {},
   "source": [
    "![Monty Python Logo](https://aspectsofhistory.com/wp-content/uploads/2021/06/Die_Ritter_der_Kokosnuss_Logo.png)\n"
   ]
  },
  {
   "cell_type": "markdown",
   "metadata": {},
   "source": [
    "# Monty Python-Themed Game\n",
    "**Objective:**\n",
    "\n",
    "Create a text-based adventure game inspired by Monty Python, where players make choices and see how they progress through humorous scenarios. This exercise will reinforce concepts like variables, if statements, loops, and basic functions."
   ]
  },
  {
   "cell_type": "markdown",
   "metadata": {},
   "source": [
    "**1. Set Up the Scene**\n",
    "\n",
    "Start by setting up a simple introduction to the game.\n",
    "print the following to the player:\n",
    "- \"Welcome to the Monty Python Adventure!\"\n",
    "- \"You are about to embark on a quest for the Holy Grail. Beware of dangerous encounters!\""
   ]
  },
  {
   "cell_type": "code",
   "execution_count": null,
   "metadata": {},
   "outputs": [
    {
     "name": "stdout",
     "output_type": "stream",
     "text": [
      "Welcome to the Monty Python Adventure!\n",
      "You are about to embark on a quest for the Holy Grail. Beware of dangerous encounters!\n"
     ]
    }
   ],
   "source": [
    "# your code here "
   ]
  },
  {
   "cell_type": "markdown",
   "metadata": {},
   "source": [
    "**2. Character Setup**\n",
    "\n",
    "Define variables to store basic player information:\n",
    "- Define the variable players name \n",
    "- Take an input to get the players name. \n",
    "    - \"What is your name, brave adventurer? \"\n",
    "- Welcome the player to the game \n",
    "    - use a f string for this\n",
    "    - \"Welcome, Sir `player_name` of Pythonia!\""
   ]
  },
  {
   "cell_type": "code",
   "execution_count": null,
   "metadata": {},
   "outputs": [
    {
     "name": "stdout",
     "output_type": "stream",
     "text": [
      "Welcome, Sir danny of Pythonia!\n"
     ]
    }
   ],
   "source": [
    "# your code here "
   ]
  },
  {
   "cell_type": "markdown",
   "metadata": {},
   "source": [
    "3. Choices with Conditional Statements\n",
    "\n",
    "In this step, you’ll add choices that let the player decide what to do when they encounter a knight. Based on their input, the game will respond with different outcomes.\n",
    "\n",
    "**Set the Scene**\n",
    "Add the following lines to introduce the knight’s challenge:\n",
    "- Display: A knight steps in front of you and says, 'None shall pass!'\n",
    "- Take in a players `choice`\n",
    "    - 1 fight the knight\n",
    "    - 2 try to reason with him?\n",
    "\n",
    "**Add Conditional Responses**\n",
    "Now, use an `if` statement to check the player’s response and determine what happens next. \n",
    "\n",
    "- if choice 1\n",
    "    - print: The knight draws his sword. It's time for battle!\n",
    "    - **Optional: Add more logic here for the battle, such as health points or chance outcomes**\n",
    "- elif choice 2\n",
    "    - print: The knight scoffs at your attempt to reason and attacks anyway.\"\n",
    "    - **Optional: Add consequences here for choosing to reason**\n",
    "- else\n",
    "    - print: You hesitate... and the knight charges!\""
   ]
  },
  {
   "cell_type": "code",
   "execution_count": null,
   "metadata": {},
   "outputs": [
    {
     "name": "stdout",
     "output_type": "stream",
     "text": [
      "A knight steps in front of you and says, 'None shall pass!'\n",
      "The knight draws his sword. It's time for battle!\n"
     ]
    }
   ],
   "source": [
    "# your code here "
   ]
  },
  {
   "cell_type": "markdown",
   "metadata": {},
   "source": [
    "**Test Your Code**\n",
    "Run the code and try typing different options to see each response."
   ]
  },
  {
   "cell_type": "markdown",
   "metadata": {},
   "source": [
    "**4. Loops for Repeated Choices**\n",
    "\n",
    "In this step, you’ll add a while loop that will keep asking the player if they want to cross the Bridge of Death until they enter a valid response. This will ensure that the player only proceeds if they choose \"yes\" or \"no.\"\n",
    "\n",
    "**Write the Loop Add the following lines to create the bridge-crossing scene:**\n",
    "\n",
    "- Display: \"Do you want to cross the Bridge of Death? (yes/no)\"\n",
    "- Take in a player’s `response`\n",
    "    - Convert the player’s input to lowercase using `.lower()`\n",
    "\n",
    "**Add Conditional Responses**\n",
    "\n",
    "Use an if statement inside the while loop to check the player’s response:\n",
    "\n",
    "- if response is \"yes\"\n",
    "    - Display: \"A troll appears and asks you three questions!\"\n",
    "    - End the loop with break\n",
    "- elif response is \"no\"\n",
    "    - Display: \"You wisely turn back.\"\n",
    "    - End the loop with break\n",
    "- else\n",
    "    - Display: \"Please answer 'yes' or 'no'.\"\n",
    "    - The loop will continue, asking again"
   ]
  },
  {
   "cell_type": "code",
   "execution_count": null,
   "metadata": {},
   "outputs": [
    {
     "name": "stdout",
     "output_type": "stream",
     "text": [
      "A troll appears and asks you three questions!\n"
     ]
    }
   ],
   "source": [
    "# your code here "
   ]
  },
  {
   "cell_type": "markdown",
   "metadata": {},
   "source": [
    "**5. Ending the Game**\n",
    "\n",
    "In this final step, you’ll display a message congratulating the player for completing their quest and saying farewell. This will conclude your Monty Python-themed adventure game.\n",
    "\n",
    "**Display the Ending Messages** \n",
    "Add the following lines to announce the player’s success and say goodbye:\n",
    "\n",
    "- Display: \"Congratulations, you have completed your quest!\"\n",
    "- Display: A farewell message that includes the player’s name:\n",
    "    - Use an `f`-string` to personalize the message by inserting `player_name`"
   ]
  },
  {
   "cell_type": "code",
   "execution_count": null,
   "metadata": {},
   "outputs": [
    {
     "name": "stdout",
     "output_type": "stream",
     "text": [
      "Congratulations, you have completed your quest!\n",
      "Farewell, Sir danny!\n"
     ]
    }
   ],
   "source": [
    "# your code here "
   ]
  },
  {
   "cell_type": "markdown",
   "metadata": {},
   "source": []
  },
  {
   "cell_type": "markdown",
   "metadata": {},
   "source": [
    "**6. Combine Your Code**\n",
    "\n",
    "Now, put all your code cells together into one complete program so the player can experience the entire game from start to finish. Copy each section of code from above and arrange them in sequence. This will create a seamless game that flows through the introduction, choices, repeated prompts, and final farewell message.\n",
    "\n",
    "Your final code should look like this:\n",
    "\n",
    "1. Introduction - Welcome the player and set up their character.\n",
    "2. First Choice - Encounter with the knight and the player's response options.\n",
    "3. Repeated Prompt - The Bridge of Death question with the while loop.\n",
    "4. Ending - Display the congratulatory message and personalized farewell.\n",
    "Run your combined code to play through the game in full!"
   ]
  },
  {
   "cell_type": "code",
   "execution_count": null,
   "metadata": {},
   "outputs": [],
   "source": [
    "# your code here "
   ]
  }
 ],
 "metadata": {
  "kernelspec": {
   "display_name": "venv",
   "language": "python",
   "name": "python3"
  },
  "language_info": {
   "codemirror_mode": {
    "name": "ipython",
    "version": 3
   },
   "file_extension": ".py",
   "mimetype": "text/x-python",
   "name": "python",
   "nbconvert_exporter": "python",
   "pygments_lexer": "ipython3",
   "version": "3.12.4"
  }
 },
 "nbformat": 4,
 "nbformat_minor": 2
}
